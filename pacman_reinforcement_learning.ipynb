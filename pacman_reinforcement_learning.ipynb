{
 "cells": [
  {
   "cell_type": "code",
   "execution_count": 22,
   "outputs": [],
   "source": [
    "# !pip install gymnasium 'gymnasium[atari]' 'gymnasium[accept-rom-license]'\n",
    "# !pip install gym 'gym[atari]' 'gym[accept-rom-license]'"
   ],
   "metadata": {
    "collapsed": false
   }
  },
  {
   "cell_type": "code",
   "execution_count": 23,
   "id": "2d00dbac-cc37-49de-92c6-e55f92440e57",
   "metadata": {},
   "outputs": [],
   "source": [
    "import numpy as np\n",
    "import gymnasium as gym\n",
    "import random\n",
    "import matplotlib.pyplot as plt"
   ]
  },
  {
   "cell_type": "code",
   "execution_count": null,
   "id": "228e5894-4d8a-4e81-ae5a-a77e43be9381",
   "metadata": {},
   "outputs": [],
   "source": [
    "env = gym.make(\"GymV26Environment-v0\", env_id=\"ALE/MsPacman-ram-v5\")\n",
    "\n",
    "ACTION_SPACE_SIZE = env.action_space.n\n",
    "# state_space_size = env.observation_space.n\n",
    "\n",
    "EPISODES_NUM = 2000\n",
    "TIMESTEPS_NUM = 200\n",
    "\n",
    "ALPHA = 0.2\n",
    "GAMMA = 0.99\n",
    "GAMMA_DECAY = 0.04\n",
    "\n",
    "EXPLORATION_RATE = 1\n",
    "MAX_EXPLORATION_RATE = 1\n",
    "MIN_EXPLORATION_RATE = 0.01\n",
    "EXPLORATION_RATE_DECAY = 0.05\n",
    "\n",
    "\n",
    "# q_table = np.zeros((num_episodes * max_steps_per_episode, action_space_size))\n",
    "state, info = env.reset()\n",
    "q_table = dict()"
   ]
  },
  {
   "cell_type": "code",
   "execution_count": null,
   "outputs": [],
   "source": [
    "def get_hash(state) -> int:\n",
    "    return hash(tuple(state))\n",
    "def set_state(action, state, reward):\n",
    "    key = get_hash(state)\n",
    "\n",
    "    if key not in q_table:\n",
    "        q_table[key] = np.zeros(ACTION_SPACE_SIZE)\n",
    "        q_table[key][action] = reward\n",
    "        return\n",
    "\n",
    "    q_table[key][action] += reward\n",
    "    return\n",
    "def get_max_action(state):\n",
    "    key = get_hash(state)\n",
    "\n",
    "    if key not in q_table:\n",
    "        q_table[key] = np.zeros(ACTION_SPACE_SIZE)\n",
    "        return env.action_space.sample()\n",
    "\n",
    "    return np.argmax(q_table[key])\n",
    "def get_max_state_reward(state):\n",
    "    key = get_hash(state)\n",
    "\n",
    "    if key not in q_table:\n",
    "        q_table[key] = np.zeros(ACTION_SPACE_SIZE)\n",
    "        return 0.0\n",
    "\n",
    "    return np.max(q_table[key])\n",
    "def get_reward_by_action_and_state(state, action):\n",
    "    key = get_hash(state)\n",
    "\n",
    "    if key not in q_table:\n",
    "        q_table[key] = np.zeros(ACTION_SPACE_SIZE)\n",
    "        return 0.0\n",
    "\n",
    "    return q_table[key][action]"
   ],
   "metadata": {
    "collapsed": false
   }
  },
  {
   "cell_type": "code",
   "execution_count": null,
   "id": "29f44fee-ab8e-4dcb-aab9-7dad454ffa1d",
   "metadata": {},
   "outputs": [],
   "source": [
    "def train():\n",
    "    rewards = []\n",
    "    mean_rewards_per_episodes = []\n",
    "\n",
    "    global EXPLORATION_RATE\n",
    "    for episode in range(EPISODES_NUM):\n",
    "        state, info = env.reset()\n",
    "        total_reward = 0\n",
    "\n",
    "        for step in range(TIMESTEPS_NUM):\n",
    "            exp_tradeoff = random.uniform(0, 1)\n",
    "\n",
    "            if exp_tradeoff > EXPLORATION_RATE:\n",
    "                action = get_max_action(state)\n",
    "            else:\n",
    "                action = env.action_space.sample()\n",
    "            new_state, reward, terminated, truncated, info = env.step(action)\n",
    "\n",
    "            new_state_max_reward = get_max_state_reward(new_state)\n",
    "            current_state_reward = get_reward_by_action_and_state(state, action)\n",
    "            discounted_reward = ALPHA * (reward + GAMMA * new_state_max_reward - current_state_reward)\n",
    "\n",
    "            set_state(action, state, discounted_reward)\n",
    "\n",
    "            total_reward += reward\n",
    "            state = new_state\n",
    "            done = terminated or truncated\n",
    "            if done:\n",
    "                break\n",
    "\n",
    "        # print('Episode: {}, reward: {}'.format(episode, total_reward))\n",
    "\n",
    "        EXPLORATION_RATE = MIN_EXPLORATION_RATE + (MAX_EXPLORATION_RATE - MIN_EXPLORATION_RATE) * np.exp(-EXPLORATION_RATE_DECAY * episode)\n",
    "\n",
    "        rewards.append(total_reward)\n",
    "        mean_rewards_per_episodes.append(sum(rewards) / len(rewards))\n",
    "\n",
    "    mean = sum(rewards) / len(rewards)\n",
    "\n",
    "    return [rewards, mean_rewards_per_episodes, mean]"
   ]
  },
  {
   "cell_type": "code",
   "execution_count": null,
   "outputs": [],
   "source": [
    "mean_rewards_per_discount_rate = []\n",
    "discount_rates = []\n",
    "GAMMA = 0.99\n",
    "\n",
    "while GAMMA >= 0:\n",
    "    print('Discount rate: ', GAMMA)\n",
    "    rewards, mean_rewards_per_episodes, mean = train()\n",
    "    mean_rewards_per_discount_rate.append(mean)\n",
    "    discount_rates.append(GAMMA)\n",
    "    GAMMA -= GAMMA_DECAY\n",
    "\n",
    "    q_table.clear()\n",
    "\n"
   ],
   "metadata": {
    "collapsed": false,
    "pycharm": {
     "is_executing": true
    }
   }
  },
  {
   "cell_type": "code",
   "execution_count": null,
   "outputs": [],
   "source": [
    "plt.plot(discount_rates, mean_rewards_per_discount_rate)"
   ],
   "metadata": {
    "collapsed": false,
    "pycharm": {
     "is_executing": true
    }
   }
  },
  {
   "cell_type": "code",
   "execution_count": 60,
   "id": "544c232c-c1ab-40ca-8624-13943ed762db",
   "metadata": {},
   "outputs": [
    {
     "data": {
      "text/plain": "[<matplotlib.lines.Line2D at 0x162200f40>]"
     },
     "execution_count": 60,
     "metadata": {},
     "output_type": "execute_result"
    },
    {
     "data": {
      "text/plain": "<Figure size 640x480 with 1 Axes>",
      "image/png": "[encoded data removed]"
     },
     "metadata": {},
     "output_type": "display_data"
    }
   ],
   "source": [
    "q_table = dict()\n",
    "GAMMA = 0.01\n",
    "rewards, mean_rewards_per_episodes, mean = train()\n",
    "\n",
    "plt.plot(mean_rewards_per_episodes)"
   ]
  },
  {
   "cell_type": "code",
   "execution_count": 61,
   "id": "77b58843-d0f5-48a2-8aca-a250c272208b",
   "metadata": {},
   "outputs": [
    {
     "data": {
      "text/plain": "[<matplotlib.lines.Line2D at 0x160802040>]"
     },
     "execution_count": 61,
     "metadata": {},
     "output_type": "execute_result"
    },
    {
     "data": {
      "text/plain": "<Figure size 640x480 with 1 Axes>",
      "image/png": "[encoded data removed]"
     },
     "metadata": {},
     "output_type": "display_data"
    }
   ],
   "source": [
    "q_table = dict()\n",
    "GAMMA = 0.99\n",
    "rewards, mean_rewards_per_episodes, mean = train()\n",
    "\n",
    "plt.plot(mean_rewards_per_episodes)"
   ]
  }
 ],
 "metadata": {
  "kernelspec": {
   "display_name": "Python 3 (ipykernel)",
   "language": "python",
   "name": "python3"
  },
  "language_info": {
   "codemirror_mode": {
    "name": "ipython",
    "version": 3
   },
   "file_extension": ".py",
   "mimetype": "text/x-python",
   "name": "python",
   "nbconvert_exporter": "python",
   "pygments_lexer": "ipython3",
   "version": "3.10.8"
  }
 },
 "nbformat": 4,
 "nbformat_minor": 5
}
